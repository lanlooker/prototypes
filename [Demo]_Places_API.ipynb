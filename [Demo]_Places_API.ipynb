{
  "nbformat": 4,
  "nbformat_minor": 0,
  "metadata": {
    "colab": {
      "provenance": [],
      "authorship_tag": "ABX9TyPOJre9TYuGeS5iMx1I6IBq",
      "include_colab_link": true
    },
    "kernelspec": {
      "name": "python3",
      "display_name": "Python 3"
    },
    "language_info": {
      "name": "python"
    }
  },
  "cells": [
    {
      "cell_type": "markdown",
      "metadata": {
        "id": "view-in-github",
        "colab_type": "text"
      },
      "source": [
        "<a href=\"https://colab.research.google.com/github/lanlooker/prototypes/blob/main/%5BDemo%5D_Places_API.ipynb\" target=\"_parent\"><img src=\"https://colab.research.google.com/assets/colab-badge.svg\" alt=\"Open In Colab\"/></a>"
      ]
    },
    {
      "cell_type": "markdown",
      "source": [
        "# Places API DEMO\n",
        "\n",
        "* Author: Lan Tran, Customers Solutions Engineer (lantrann@google.com)\n",
        "* Note: This code is not a Google's official product. Please contact the author and/or the account management team for further questions"
      ],
      "metadata": {
        "id": "l_nqjXSHTY8v"
      }
    },
    {
      "cell_type": "code",
      "execution_count": null,
      "metadata": {
        "id": "rdVfbEHeDl_N"
      },
      "outputs": [],
      "source": [
        "!pip install -U googlemaps\n",
        "import googlemaps\n",
        "gmaps = googlemaps.Client(key='XYZ')"
      ]
    },
    {
      "cell_type": "code",
      "source": [
        "# Get the first 20 places close by central Bangkok.\n",
        "places = gmaps.places_nearby(keyword = 'salon',\n",
        "                                       #type = \"beauty_salon\",\n",
        "                                       location = \"13.7563,100.5018\", #central Bangkok\n",
        "                                       radius = 10000, # radius in meters\n",
        "                                       language = \"th\"\n",
        ")"
      ],
      "metadata": {
        "id": "Dku-yLyFIrpD"
      },
      "execution_count": null,
      "outputs": []
    },
    {
      "cell_type": "code",
      "source": [
        "# Get the next 20 places\n",
        "next_20_places = gmaps.places_nearby(page_token=places[“next_page_token”])"
      ],
      "metadata": {
        "id": "GpT1xhDiSut8"
      },
      "execution_count": null,
      "outputs": []
    },
    {
      "cell_type": "code",
      "source": [
        "# Preview the first place; places is a dictionary; places[\"results\"] is a list\n",
        "print((places[\"results\"])[0])"
      ],
      "metadata": {
        "id": "oF_LIvcRS6KH"
      },
      "execution_count": null,
      "outputs": []
    }
  ]
}
